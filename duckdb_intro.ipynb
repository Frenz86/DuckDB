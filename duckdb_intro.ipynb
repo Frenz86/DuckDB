{
 "cells": [
  {
   "cell_type": "markdown",
   "metadata": {},
   "source": [
    "## Create DuckDB DataBase\n",
    "\n",
    "![image](https://duckdb.org/images/logo-dl/DuckDB_Logo-horizontal.svg)"
   ]
  },
  {
   "cell_type": "markdown",
   "metadata": {},
   "source": [
    "### Create Table from CSV file"
   ]
  },
  {
   "cell_type": "code",
   "execution_count": 30,
   "metadata": {},
   "outputs": [],
   "source": [
    "import duckdb\n",
    "import pandas as pd\n",
    "\n",
    "conn = duckdb.connect('mydb_csv.ddb')\n",
    "\n",
    "# Create table from CSV\n",
    "PATH = 'data.csv'\n",
    "conn.sql(f'''CREATE TABLE people AS \n",
    "    SELECT * FROM {PATH} ''')"
   ]
  },
  {
   "cell_type": "markdown",
   "metadata": {},
   "source": [
    "### Create Table from Parquet file "
   ]
  },
  {
   "cell_type": "code",
   "execution_count": 47,
   "metadata": {},
   "outputs": [],
   "source": [
    "import duckdb\n",
    "import pandas as pd\n",
    "\n",
    "conn = duckdb.connect('mydb_parquet.ddb')\n",
    "\n",
    "# Create table from PARQUET\n",
    "PATH = 'data.parquet'\n",
    "conn.sql(f'''CREATE TABLE IF NOT EXISTS people AS \n",
    "    SELECT * FROM {PATH}''')"
   ]
  },
  {
   "cell_type": "code",
   "execution_count": 48,
   "metadata": {},
   "outputs": [
    {
     "name": "stdout",
     "output_type": "stream",
     "text": [
      "          job    avg_age  count\n",
      "0     Manager  58.333333      4\n",
      "1  Programmer  35.000000      2\n"
     ]
    }
   ],
   "source": [
    "query = \"\"\"\n",
    "\n",
    "WITH filtered_data AS (\n",
    "    SELECT job, AVG(age) as avg_age\n",
    "    FROM people\n",
    "    WHERE age > 25\n",
    "    GROUP BY job\n",
    "),\n",
    "job_counts AS (\n",
    "    SELECT job, COUNT(*) as count\n",
    "    FROM people\n",
    "    GROUP BY job\n",
    ")\n",
    "SELECT fd.job, fd.avg_age, jc.count\n",
    "FROM filtered_data fd\n",
    "JOIN job_counts jc\n",
    "    ON fd.job = jc.job\n",
    "WHERE jc.count > 1\n",
    "ORDER BY fd.avg_age DESC\n",
    "\"\"\"\n",
    "print(conn.sql(query).df())"
   ]
  },
  {
   "cell_type": "code",
   "execution_count": 49,
   "metadata": {},
   "outputs": [
    {
     "data": {
      "text/html": [
       "<div>\n",
       "<style scoped>\n",
       "    .dataframe tbody tr th:only-of-type {\n",
       "        vertical-align: middle;\n",
       "    }\n",
       "\n",
       "    .dataframe tbody tr th {\n",
       "        vertical-align: top;\n",
       "    }\n",
       "\n",
       "    .dataframe thead th {\n",
       "        text-align: right;\n",
       "    }\n",
       "</style>\n",
       "<table border=\"1\" class=\"dataframe\">\n",
       "  <thead>\n",
       "    <tr style=\"text-align: right;\">\n",
       "      <th></th>\n",
       "      <th>job</th>\n",
       "      <th>avg_age</th>\n",
       "      <th>count</th>\n",
       "    </tr>\n",
       "  </thead>\n",
       "  <tbody>\n",
       "    <tr>\n",
       "      <th>0</th>\n",
       "      <td>Manager</td>\n",
       "      <td>58.333333</td>\n",
       "      <td>4</td>\n",
       "    </tr>\n",
       "    <tr>\n",
       "      <th>1</th>\n",
       "      <td>Programmer</td>\n",
       "      <td>35.000000</td>\n",
       "      <td>2</td>\n",
       "    </tr>\n",
       "  </tbody>\n",
       "</table>\n",
       "</div>"
      ],
      "text/plain": [
       "          job    avg_age  count\n",
       "0     Manager  58.333333      4\n",
       "1  Programmer  35.000000      2"
      ]
     },
     "execution_count": 49,
     "metadata": {},
     "output_type": "execute_result"
    }
   ],
   "source": [
    "df1 = conn.sql(query).df()\n",
    "df1"
   ]
  },
  {
   "cell_type": "code",
   "execution_count": 50,
   "metadata": {},
   "outputs": [],
   "source": [
    "# CLose\n",
    "conn.commit()\n",
    "conn.close()"
   ]
  },
  {
   "cell_type": "markdown",
   "metadata": {},
   "source": [
    "## Read DUckDB DataBase"
   ]
  },
  {
   "cell_type": "code",
   "execution_count": 53,
   "metadata": {},
   "outputs": [],
   "source": [
    "import duckdb\n",
    "import pandas as pd\n",
    "\n",
    "conn = duckdb.connect('mydb_parquet.ddb')"
   ]
  },
  {
   "cell_type": "code",
   "execution_count": 54,
   "metadata": {},
   "outputs": [
    {
     "data": {
      "text/html": [
       "<div>\n",
       "<style scoped>\n",
       "    .dataframe tbody tr th:only-of-type {\n",
       "        vertical-align: middle;\n",
       "    }\n",
       "\n",
       "    .dataframe tbody tr th {\n",
       "        vertical-align: top;\n",
       "    }\n",
       "\n",
       "    .dataframe thead th {\n",
       "        text-align: right;\n",
       "    }\n",
       "</style>\n",
       "<table border=\"1\" class=\"dataframe\">\n",
       "  <thead>\n",
       "    <tr style=\"text-align: right;\">\n",
       "      <th></th>\n",
       "      <th>job</th>\n",
       "      <th>avg_age</th>\n",
       "      <th>count</th>\n",
       "    </tr>\n",
       "  </thead>\n",
       "  <tbody>\n",
       "    <tr>\n",
       "      <th>0</th>\n",
       "      <td>Manager</td>\n",
       "      <td>58.333333</td>\n",
       "      <td>4</td>\n",
       "    </tr>\n",
       "    <tr>\n",
       "      <th>1</th>\n",
       "      <td>Programmer</td>\n",
       "      <td>35.000000</td>\n",
       "      <td>2</td>\n",
       "    </tr>\n",
       "  </tbody>\n",
       "</table>\n",
       "</div>"
      ],
      "text/plain": [
       "          job    avg_age  count\n",
       "0     Manager  58.333333      4\n",
       "1  Programmer  35.000000      2"
      ]
     },
     "execution_count": 54,
     "metadata": {},
     "output_type": "execute_result"
    }
   ],
   "source": [
    "# Your analysis query\n",
    "query = \"\"\"\n",
    "WITH filtered_data AS (\n",
    "    SELECT job, AVG(age) as avg_age\n",
    "    FROM people\n",
    "    WHERE age > 25\n",
    "    GROUP BY job\n",
    "),\n",
    "job_counts AS (\n",
    "    SELECT job, COUNT(*) as count\n",
    "    FROM people\n",
    "    GROUP BY job\n",
    ")\n",
    "SELECT fd.job, fd.avg_age, jc.count\n",
    "FROM filtered_data fd\n",
    "JOIN job_counts jc\n",
    "    ON fd.job = jc.job\n",
    "WHERE jc.count > 1\n",
    "ORDER BY fd.avg_age DESC\n",
    "\"\"\"\n",
    "\n",
    "conn.sql(query).df()"
   ]
  },
  {
   "cell_type": "code",
   "execution_count": 55,
   "metadata": {},
   "outputs": [],
   "source": [
    "conn.close()"
   ]
  },
  {
   "cell_type": "code",
   "execution_count": null,
   "metadata": {},
   "outputs": [],
   "source": []
  }
 ],
 "metadata": {
  "kernelspec": {
   "display_name": "Python 3",
   "language": "python",
   "name": "python3"
  },
  "language_info": {
   "codemirror_mode": {
    "name": "ipython",
    "version": 3
   },
   "file_extension": ".py",
   "mimetype": "text/x-python",
   "name": "python",
   "nbconvert_exporter": "python",
   "pygments_lexer": "ipython3",
   "version": "3.11.9"
  }
 },
 "nbformat": 4,
 "nbformat_minor": 2
}
