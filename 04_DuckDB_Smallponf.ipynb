{
 "cells": [
  {
   "cell_type": "markdown",
   "metadata": {},
   "source": [
    "## Smallpond"
   ]
  },
  {
   "cell_type": "code",
   "execution_count": null,
   "metadata": {},
   "outputs": [],
   "source": [
    "!pip install smallpond"
   ]
  },
  {
   "cell_type": "code",
   "execution_count": null,
   "metadata": {},
   "outputs": [],
   "source": [
    "# Download example data\n",
    "!wget https://duckdb.org/data/prices.parquet"
   ]
  },
  {
   "cell_type": "code",
   "execution_count": null,
   "metadata": {},
   "outputs": [],
   "source": [
    "import smallpond\n",
    "\n",
    "# Initialize session\n",
    "sp = smallpond.init()\n",
    "\n",
    "# Load data\n",
    "df = sp.read_parquet(\"prices.parquet\")\n",
    "\n",
    "# Process data\n",
    "df = df.repartition(3, hash_by=\"ticker\")\n",
    "df = sp.partial_sql(\"SELECT ticker, min(price), max(price) FROM {0} GROUP BY ticker\", df)\n",
    "\n",
    "# Save results\n",
    "df.write_parquet(\"output/\")\n",
    "df.to_pandas()"
   ]
  },
  {
   "cell_type": "code",
   "execution_count": null,
   "metadata": {},
   "outputs": [],
   "source": []
  }
 ],
 "metadata": {
  "kernelspec": {
   "display_name": "Python 3",
   "language": "python",
   "name": "python3"
  },
  "language_info": {
   "name": "python",
   "version": "3.11.9"
  }
 },
 "nbformat": 4,
 "nbformat_minor": 2
}
