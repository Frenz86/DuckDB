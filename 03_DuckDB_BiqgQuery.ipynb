{
 "cells": [
  {
   "cell_type": "markdown",
   "metadata": {},
   "source": [
    "## DuckDB to BQ + Polars"
   ]
  },
  {
   "cell_type": "code",
   "execution_count": 8,
   "metadata": {},
   "outputs": [
    {
     "data": {
      "text/html": [
       "<div><style>\n",
       ".dataframe > thead > tr,\n",
       ".dataframe > tbody > tr {\n",
       "  text-align: right;\n",
       "  white-space: pre-wrap;\n",
       "}\n",
       "</style>\n",
       "<small>shape: (434_214, 7)</small><table border=\"1\" class=\"dataframe\"><thead><tr><th>customer_id</th><th>transaction_type</th><th>transaction_id</th><th>transaction_date</th><th>product_id</th><th>quantity</th><th>total_amount</th></tr><tr><td>i64</td><td>str</td><td>i64</td><td>date</td><td>i64</td><td>i64</td><td>f64</td></tr></thead><tbody><tr><td>69434132</td><td>&quot;Retail&quot;</td><td>70871315</td><td>2020-02-19</td><td>100041</td><td>1</td><td>6.0</td></tr><tr><td>69434132</td><td>&quot;Retail&quot;</td><td>69435751</td><td>2023-05-17</td><td>100041</td><td>1</td><td>6.0</td></tr><tr><td>69434132</td><td>&quot;Retail&quot;</td><td>56763934</td><td>2021-12-24</td><td>100041</td><td>1</td><td>6.0</td></tr><tr><td>69434132</td><td>&quot;Retail&quot;</td><td>25561811</td><td>2022-09-08</td><td>100041</td><td>1</td><td>6.0</td></tr><tr><td>69434132</td><td>&quot;Retail&quot;</td><td>37754434</td><td>2019-12-31</td><td>100041</td><td>1</td><td>6.0</td></tr><tr><td>&hellip;</td><td>&hellip;</td><td>&hellip;</td><td>&hellip;</td><td>&hellip;</td><td>&hellip;</td><td>&hellip;</td></tr><tr><td>30571760</td><td>&quot;Wholesale&quot;</td><td>80687092</td><td>2020-07-21</td><td>100054</td><td>500</td><td>26250.0</td></tr><tr><td>30571760</td><td>&quot;Wholesale&quot;</td><td>15067315</td><td>2021-01-11</td><td>100054</td><td>500</td><td>26250.0</td></tr><tr><td>30571760</td><td>&quot;Wholesale&quot;</td><td>84109115</td><td>2021-02-16</td><td>100054</td><td>500</td><td>26250.0</td></tr><tr><td>30571760</td><td>&quot;Wholesale&quot;</td><td>61732974</td><td>2021-01-30</td><td>100054</td><td>500</td><td>26250.0</td></tr><tr><td>30571760</td><td>&quot;Wholesale&quot;</td><td>19806024</td><td>2022-10-12</td><td>100054</td><td>500</td><td>26250.0</td></tr></tbody></table></div>"
      ],
      "text/plain": [
       "shape: (434_214, 7)\n",
       "┌─────────────┬───────────────┬──────────────┬──────────────┬────────────┬──────────┬──────────────┐\n",
       "│ customer_id ┆ transaction_t ┆ transaction_ ┆ transaction_ ┆ product_id ┆ quantity ┆ total_amount │\n",
       "│ ---         ┆ ype           ┆ id           ┆ date         ┆ ---        ┆ ---      ┆ ---          │\n",
       "│ i64         ┆ ---           ┆ ---          ┆ ---          ┆ i64        ┆ i64      ┆ f64          │\n",
       "│             ┆ str           ┆ i64          ┆ date         ┆            ┆          ┆              │\n",
       "╞═════════════╪═══════════════╪══════════════╪══════════════╪════════════╪══════════╪══════════════╡\n",
       "│ 69434132    ┆ Retail        ┆ 70871315     ┆ 2020-02-19   ┆ 100041     ┆ 1        ┆ 6.0          │\n",
       "│ 69434132    ┆ Retail        ┆ 69435751     ┆ 2023-05-17   ┆ 100041     ┆ 1        ┆ 6.0          │\n",
       "│ 69434132    ┆ Retail        ┆ 56763934     ┆ 2021-12-24   ┆ 100041     ┆ 1        ┆ 6.0          │\n",
       "│ 69434132    ┆ Retail        ┆ 25561811     ┆ 2022-09-08   ┆ 100041     ┆ 1        ┆ 6.0          │\n",
       "│ 69434132    ┆ Retail        ┆ 37754434     ┆ 2019-12-31   ┆ 100041     ┆ 1        ┆ 6.0          │\n",
       "│ …           ┆ …             ┆ …            ┆ …            ┆ …          ┆ …        ┆ …            │\n",
       "│ 30571760    ┆ Wholesale     ┆ 80687092     ┆ 2020-07-21   ┆ 100054     ┆ 500      ┆ 26250.0      │\n",
       "│ 30571760    ┆ Wholesale     ┆ 15067315     ┆ 2021-01-11   ┆ 100054     ┆ 500      ┆ 26250.0      │\n",
       "│ 30571760    ┆ Wholesale     ┆ 84109115     ┆ 2021-02-16   ┆ 100054     ┆ 500      ┆ 26250.0      │\n",
       "│ 30571760    ┆ Wholesale     ┆ 61732974     ┆ 2021-01-30   ┆ 100054     ┆ 500      ┆ 26250.0      │\n",
       "│ 30571760    ┆ Wholesale     ┆ 19806024     ┆ 2022-10-12   ┆ 100054     ┆ 500      ┆ 26250.0      │\n",
       "└─────────────┴───────────────┴──────────────┴──────────────┴────────────┴──────────┴──────────────┘"
      ]
     },
     "execution_count": 8,
     "metadata": {},
     "output_type": "execute_result"
    }
   ],
   "source": [
    "import duckdb\n",
    "from google.cloud import bigquery\n",
    "from google.oauth2 import service_account\n",
    "\n",
    "key_path = \"service_intro-bq-mio.json\"\n",
    "\n",
    "project_id = \"intro-bq-01\"\n",
    "database = \"windsom_pets\"\n",
    "table = \"sales\"\n",
    "\n",
    "credentials = service_account.Credentials.from_service_account_file(key_path)\n",
    "bqclient = bigquery.Client(credentials=credentials, project=credentials.project_id)\n",
    "selected_table = bigquery.TableReference.from_string(f\"{project_id}.{database}.{table}\")\n",
    "rows = bqclient.list_rows(selected_table)\n",
    "bq_data = rows.to_arrow(create_bqstorage_client=True)\n",
    "\n",
    "conn = duckdb.connect()\n",
    "\n",
    "query = \"\"\" SELECT * \n",
    "            FROM bq_data \n",
    "            --LIMIT 5\n",
    "        \"\"\"\n",
    "\n",
    "df = conn.sql(query).pl()\n",
    "df"
   ]
  },
  {
   "cell_type": "code",
   "execution_count": null,
   "metadata": {},
   "outputs": [],
   "source": [
    "df.write_parquet('bq_data.parquet') # polar df"
   ]
  },
  {
   "cell_type": "markdown",
   "metadata": {},
   "source": [
    "## Read Parquet from DuckDB to Pandas"
   ]
  },
  {
   "cell_type": "code",
   "execution_count": 12,
   "metadata": {},
   "outputs": [
    {
     "data": {
      "text/html": [
       "<div>\n",
       "<style scoped>\n",
       "    .dataframe tbody tr th:only-of-type {\n",
       "        vertical-align: middle;\n",
       "    }\n",
       "\n",
       "    .dataframe tbody tr th {\n",
       "        vertical-align: top;\n",
       "    }\n",
       "\n",
       "    .dataframe thead th {\n",
       "        text-align: right;\n",
       "    }\n",
       "</style>\n",
       "<table border=\"1\" class=\"dataframe\">\n",
       "  <thead>\n",
       "    <tr style=\"text-align: right;\">\n",
       "      <th></th>\n",
       "      <th>customer_id</th>\n",
       "      <th>transaction_type</th>\n",
       "      <th>transaction_id</th>\n",
       "      <th>transaction_date</th>\n",
       "      <th>product_id</th>\n",
       "      <th>quantity</th>\n",
       "      <th>total_amount</th>\n",
       "    </tr>\n",
       "  </thead>\n",
       "  <tbody>\n",
       "    <tr>\n",
       "      <th>0</th>\n",
       "      <td>69434132.0</td>\n",
       "      <td>Retail</td>\n",
       "      <td>70871315</td>\n",
       "      <td>2020-02-19</td>\n",
       "      <td>100041</td>\n",
       "      <td>1</td>\n",
       "      <td>6.0</td>\n",
       "    </tr>\n",
       "    <tr>\n",
       "      <th>1</th>\n",
       "      <td>69434132.0</td>\n",
       "      <td>Retail</td>\n",
       "      <td>69435751</td>\n",
       "      <td>2023-05-17</td>\n",
       "      <td>100041</td>\n",
       "      <td>1</td>\n",
       "      <td>6.0</td>\n",
       "    </tr>\n",
       "    <tr>\n",
       "      <th>2</th>\n",
       "      <td>69434132.0</td>\n",
       "      <td>Retail</td>\n",
       "      <td>56763934</td>\n",
       "      <td>2021-12-24</td>\n",
       "      <td>100041</td>\n",
       "      <td>1</td>\n",
       "      <td>6.0</td>\n",
       "    </tr>\n",
       "    <tr>\n",
       "      <th>3</th>\n",
       "      <td>69434132.0</td>\n",
       "      <td>Retail</td>\n",
       "      <td>25561811</td>\n",
       "      <td>2022-09-08</td>\n",
       "      <td>100041</td>\n",
       "      <td>1</td>\n",
       "      <td>6.0</td>\n",
       "    </tr>\n",
       "    <tr>\n",
       "      <th>4</th>\n",
       "      <td>69434132.0</td>\n",
       "      <td>Retail</td>\n",
       "      <td>37754434</td>\n",
       "      <td>2019-12-31</td>\n",
       "      <td>100041</td>\n",
       "      <td>1</td>\n",
       "      <td>6.0</td>\n",
       "    </tr>\n",
       "    <tr>\n",
       "      <th>...</th>\n",
       "      <td>...</td>\n",
       "      <td>...</td>\n",
       "      <td>...</td>\n",
       "      <td>...</td>\n",
       "      <td>...</td>\n",
       "      <td>...</td>\n",
       "      <td>...</td>\n",
       "    </tr>\n",
       "    <tr>\n",
       "      <th>217102</th>\n",
       "      <td>30571760.0</td>\n",
       "      <td>Wholesale</td>\n",
       "      <td>80687092</td>\n",
       "      <td>2020-07-21</td>\n",
       "      <td>100054</td>\n",
       "      <td>500</td>\n",
       "      <td>26250.0</td>\n",
       "    </tr>\n",
       "    <tr>\n",
       "      <th>217103</th>\n",
       "      <td>30571760.0</td>\n",
       "      <td>Wholesale</td>\n",
       "      <td>15067315</td>\n",
       "      <td>2021-01-11</td>\n",
       "      <td>100054</td>\n",
       "      <td>500</td>\n",
       "      <td>26250.0</td>\n",
       "    </tr>\n",
       "    <tr>\n",
       "      <th>217104</th>\n",
       "      <td>30571760.0</td>\n",
       "      <td>Wholesale</td>\n",
       "      <td>84109115</td>\n",
       "      <td>2021-02-16</td>\n",
       "      <td>100054</td>\n",
       "      <td>500</td>\n",
       "      <td>26250.0</td>\n",
       "    </tr>\n",
       "    <tr>\n",
       "      <th>217105</th>\n",
       "      <td>30571760.0</td>\n",
       "      <td>Wholesale</td>\n",
       "      <td>61732974</td>\n",
       "      <td>2021-01-30</td>\n",
       "      <td>100054</td>\n",
       "      <td>500</td>\n",
       "      <td>26250.0</td>\n",
       "    </tr>\n",
       "    <tr>\n",
       "      <th>217106</th>\n",
       "      <td>30571760.0</td>\n",
       "      <td>Wholesale</td>\n",
       "      <td>19806024</td>\n",
       "      <td>2022-10-12</td>\n",
       "      <td>100054</td>\n",
       "      <td>500</td>\n",
       "      <td>26250.0</td>\n",
       "    </tr>\n",
       "  </tbody>\n",
       "</table>\n",
       "<p>217107 rows × 7 columns</p>\n",
       "</div>"
      ],
      "text/plain": [
       "        customer_id transaction_type  transaction_id transaction_date  \\\n",
       "0        69434132.0           Retail        70871315       2020-02-19   \n",
       "1        69434132.0           Retail        69435751       2023-05-17   \n",
       "2        69434132.0           Retail        56763934       2021-12-24   \n",
       "3        69434132.0           Retail        25561811       2022-09-08   \n",
       "4        69434132.0           Retail        37754434       2019-12-31   \n",
       "...             ...              ...             ...              ...   \n",
       "217102   30571760.0        Wholesale        80687092       2020-07-21   \n",
       "217103   30571760.0        Wholesale        15067315       2021-01-11   \n",
       "217104   30571760.0        Wholesale        84109115       2021-02-16   \n",
       "217105   30571760.0        Wholesale        61732974       2021-01-30   \n",
       "217106   30571760.0        Wholesale        19806024       2022-10-12   \n",
       "\n",
       "        product_id  quantity  total_amount  \n",
       "0           100041         1           6.0  \n",
       "1           100041         1           6.0  \n",
       "2           100041         1           6.0  \n",
       "3           100041         1           6.0  \n",
       "4           100041         1           6.0  \n",
       "...            ...       ...           ...  \n",
       "217102      100054       500       26250.0  \n",
       "217103      100054       500       26250.0  \n",
       "217104      100054       500       26250.0  \n",
       "217105      100054       500       26250.0  \n",
       "217106      100054       500       26250.0  \n",
       "\n",
       "[217107 rows x 7 columns]"
      ]
     },
     "execution_count": 12,
     "metadata": {},
     "output_type": "execute_result"
    }
   ],
   "source": [
    "import duckdb\n",
    "\n",
    "con = duckdb.connect()\n",
    "\n",
    "path_sa = 'bq_data.parquet'\n",
    "con.execute(f\"CREATE TABLE data AS SELECT * FROM read_parquet({path_sa})\")\n",
    "df1 = con.execute(\"SELECT * FROM data\").fetchdf()\n",
    "df1"
   ]
  },
  {
   "cell_type": "markdown",
   "metadata": {},
   "source": [
    "## Read Parquet from DuckDB to Polars"
   ]
  },
  {
   "cell_type": "code",
   "execution_count": 24,
   "metadata": {},
   "outputs": [
    {
     "data": {
      "text/html": [
       "<div><style>\n",
       ".dataframe > thead > tr,\n",
       ".dataframe > tbody > tr {\n",
       "  text-align: right;\n",
       "  white-space: pre-wrap;\n",
       "}\n",
       "</style>\n",
       "<small>shape: (217_107, 7)</small><table border=\"1\" class=\"dataframe\"><thead><tr><th>customer_id</th><th>transaction_type</th><th>transaction_id</th><th>transaction_date</th><th>product_id</th><th>quantity</th><th>total_amount</th></tr><tr><td>i64</td><td>str</td><td>i64</td><td>date</td><td>i64</td><td>i64</td><td>f64</td></tr></thead><tbody><tr><td>69434132</td><td>&quot;Retail&quot;</td><td>70871315</td><td>2020-02-19</td><td>100041</td><td>1</td><td>6.0</td></tr><tr><td>69434132</td><td>&quot;Retail&quot;</td><td>69435751</td><td>2023-05-17</td><td>100041</td><td>1</td><td>6.0</td></tr><tr><td>69434132</td><td>&quot;Retail&quot;</td><td>56763934</td><td>2021-12-24</td><td>100041</td><td>1</td><td>6.0</td></tr><tr><td>69434132</td><td>&quot;Retail&quot;</td><td>25561811</td><td>2022-09-08</td><td>100041</td><td>1</td><td>6.0</td></tr><tr><td>69434132</td><td>&quot;Retail&quot;</td><td>37754434</td><td>2019-12-31</td><td>100041</td><td>1</td><td>6.0</td></tr><tr><td>&hellip;</td><td>&hellip;</td><td>&hellip;</td><td>&hellip;</td><td>&hellip;</td><td>&hellip;</td><td>&hellip;</td></tr><tr><td>30571760</td><td>&quot;Wholesale&quot;</td><td>80687092</td><td>2020-07-21</td><td>100054</td><td>500</td><td>26250.0</td></tr><tr><td>30571760</td><td>&quot;Wholesale&quot;</td><td>15067315</td><td>2021-01-11</td><td>100054</td><td>500</td><td>26250.0</td></tr><tr><td>30571760</td><td>&quot;Wholesale&quot;</td><td>84109115</td><td>2021-02-16</td><td>100054</td><td>500</td><td>26250.0</td></tr><tr><td>30571760</td><td>&quot;Wholesale&quot;</td><td>61732974</td><td>2021-01-30</td><td>100054</td><td>500</td><td>26250.0</td></tr><tr><td>30571760</td><td>&quot;Wholesale&quot;</td><td>19806024</td><td>2022-10-12</td><td>100054</td><td>500</td><td>26250.0</td></tr></tbody></table></div>"
      ],
      "text/plain": [
       "shape: (217_107, 7)\n",
       "┌─────────────┬───────────────┬──────────────┬──────────────┬────────────┬──────────┬──────────────┐\n",
       "│ customer_id ┆ transaction_t ┆ transaction_ ┆ transaction_ ┆ product_id ┆ quantity ┆ total_amount │\n",
       "│ ---         ┆ ype           ┆ id           ┆ date         ┆ ---        ┆ ---      ┆ ---          │\n",
       "│ i64         ┆ ---           ┆ ---          ┆ ---          ┆ i64        ┆ i64      ┆ f64          │\n",
       "│             ┆ str           ┆ i64          ┆ date         ┆            ┆          ┆              │\n",
       "╞═════════════╪═══════════════╪══════════════╪══════════════╪════════════╪══════════╪══════════════╡\n",
       "│ 69434132    ┆ Retail        ┆ 70871315     ┆ 2020-02-19   ┆ 100041     ┆ 1        ┆ 6.0          │\n",
       "│ 69434132    ┆ Retail        ┆ 69435751     ┆ 2023-05-17   ┆ 100041     ┆ 1        ┆ 6.0          │\n",
       "│ 69434132    ┆ Retail        ┆ 56763934     ┆ 2021-12-24   ┆ 100041     ┆ 1        ┆ 6.0          │\n",
       "│ 69434132    ┆ Retail        ┆ 25561811     ┆ 2022-09-08   ┆ 100041     ┆ 1        ┆ 6.0          │\n",
       "│ 69434132    ┆ Retail        ┆ 37754434     ┆ 2019-12-31   ┆ 100041     ┆ 1        ┆ 6.0          │\n",
       "│ …           ┆ …             ┆ …            ┆ …            ┆ …          ┆ …        ┆ …            │\n",
       "│ 30571760    ┆ Wholesale     ┆ 80687092     ┆ 2020-07-21   ┆ 100054     ┆ 500      ┆ 26250.0      │\n",
       "│ 30571760    ┆ Wholesale     ┆ 15067315     ┆ 2021-01-11   ┆ 100054     ┆ 500      ┆ 26250.0      │\n",
       "│ 30571760    ┆ Wholesale     ┆ 84109115     ┆ 2021-02-16   ┆ 100054     ┆ 500      ┆ 26250.0      │\n",
       "│ 30571760    ┆ Wholesale     ┆ 61732974     ┆ 2021-01-30   ┆ 100054     ┆ 500      ┆ 26250.0      │\n",
       "│ 30571760    ┆ Wholesale     ┆ 19806024     ┆ 2022-10-12   ┆ 100054     ┆ 500      ┆ 26250.0      │\n",
       "└─────────────┴───────────────┴──────────────┴──────────────┴────────────┴──────────┴──────────────┘"
      ]
     },
     "execution_count": 24,
     "metadata": {},
     "output_type": "execute_result"
    }
   ],
   "source": [
    "import duckdb\n",
    "import polars as pl\n",
    "\n",
    "con = duckdb.connect()\n",
    "\n",
    "path_sa = 'bq_data.parquet'\n",
    "\n",
    "con.execute(f\"CREATE TABLE data AS SELECT * FROM read_parquet({path_sa})\")\n",
    "arrow_table = con.execute(\"SELECT * FROM data\").arrow()\n",
    "df = pl.LazyFrame(arrow_table).collect()\n",
    "df"
   ]
  },
  {
   "cell_type": "markdown",
   "metadata": {},
   "source": [
    "## to write on BigQuery with DuckDB"
   ]
  },
  {
   "cell_type": "code",
   "execution_count": null,
   "metadata": {},
   "outputs": [
    {
     "name": "stdout",
     "output_type": "stream",
     "text": [
      "Loaded 217107 rows into windsom_pets:sales\n"
     ]
    }
   ],
   "source": [
    "from google.cloud import bigquery\n",
    "from google.oauth2 import service_account\n",
    "\n",
    "key_path = \"service_intro-bq-mio.json\"\n",
    "\n",
    "project_id = \"intro-bq-01\"\n",
    "database = \"windsom_pets\"\n",
    "table = \"sales\"\n",
    "\n",
    "credentials = service_account.Credentials.from_service_account_file(key_path)\n",
    "bqclient = bigquery.Client(credentials=credentials, project=credentials.project_id)\n",
    "table_ref = bqclient.dataset(database).table(table)\n",
    "\n",
    "job_config = bigquery.LoadJobConfig()\n",
    "job_config.autodetect = True\n",
    "job_config.source_format = bigquery.SourceFormat.PARQUET\n",
    "\n",
    "job = bqclient.load_table_from_dataframe(df1, table_ref, job_config=job_config)\n",
    "job.result()\n",
    "print(f\"Loaded {job.output_rows} rows into {database}:{table}\")"
   ]
  },
  {
   "cell_type": "code",
   "execution_count": null,
   "metadata": {},
   "outputs": [],
   "source": []
  }
 ],
 "metadata": {
  "kernelspec": {
   "display_name": "Python 3",
   "language": "python",
   "name": "python3"
  },
  "language_info": {
   "codemirror_mode": {
    "name": "ipython",
    "version": 3
   },
   "file_extension": ".py",
   "mimetype": "text/x-python",
   "name": "python",
   "nbconvert_exporter": "python",
   "pygments_lexer": "ipython3",
   "version": "3.11.9"
  }
 },
 "nbformat": 4,
 "nbformat_minor": 2
}
