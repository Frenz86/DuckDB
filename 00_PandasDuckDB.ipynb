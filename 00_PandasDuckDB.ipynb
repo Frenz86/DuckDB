{
 "cells": [
  {
   "cell_type": "markdown",
   "metadata": {
    "id": "f_I8pTN7lfJF"
   },
   "source": [
    "\n",
    "## Fomr Pandas to DuckDB\n",
    "\n",
    "![image](https://duckdb.org/images/logo-dl/DuckDB_Logo-horizontal.svg)"
   ]
  },
  {
   "cell_type": "code",
   "execution_count": null,
   "metadata": {
    "id": "eW7CCYRTlfJK"
   },
   "outputs": [],
   "source": [
    "# !pip install duckdb"
   ]
  },
  {
   "cell_type": "code",
   "execution_count": 2,
   "metadata": {
    "colab": {
     "base_uri": "https://localhost:8080/",
     "height": 206
    },
    "executionInfo": {
     "elapsed": 2589,
     "status": "ok",
     "timestamp": 1736622060468,
     "user": {
      "displayName": "Daniele Grotti",
      "userId": "05993002232846155126"
     },
     "user_tz": -60
    },
    "id": "avDO_vpulfJM",
    "outputId": "b0a2fcb3-7899-4226-a758-6db2d8cf7c1c"
   },
   "outputs": [
    {
     "data": {
      "text/html": [
       "<div>\n",
       "<style scoped>\n",
       "    .dataframe tbody tr th:only-of-type {\n",
       "        vertical-align: middle;\n",
       "    }\n",
       "\n",
       "    .dataframe tbody tr th {\n",
       "        vertical-align: top;\n",
       "    }\n",
       "\n",
       "    .dataframe thead th {\n",
       "        text-align: right;\n",
       "    }\n",
       "</style>\n",
       "<table border=\"1\" class=\"dataframe\">\n",
       "  <thead>\n",
       "    <tr style=\"text-align: right;\">\n",
       "      <th></th>\n",
       "      <th>product</th>\n",
       "      <th>sales</th>\n",
       "      <th>date</th>\n",
       "    </tr>\n",
       "  </thead>\n",
       "  <tbody>\n",
       "    <tr>\n",
       "      <th>0</th>\n",
       "      <td>A</td>\n",
       "      <td>100</td>\n",
       "      <td>2023-01-01</td>\n",
       "    </tr>\n",
       "    <tr>\n",
       "      <th>1</th>\n",
       "      <td>B</td>\n",
       "      <td>200</td>\n",
       "      <td>2023-01-02</td>\n",
       "    </tr>\n",
       "    <tr>\n",
       "      <th>2</th>\n",
       "      <td>C</td>\n",
       "      <td>300</td>\n",
       "      <td>2023-01-03</td>\n",
       "    </tr>\n",
       "    <tr>\n",
       "      <th>3</th>\n",
       "      <td>A</td>\n",
       "      <td>150</td>\n",
       "      <td>2023-01-04</td>\n",
       "    </tr>\n",
       "    <tr>\n",
       "      <th>4</th>\n",
       "      <td>B</td>\n",
       "      <td>250</td>\n",
       "      <td>2023-01-05</td>\n",
       "    </tr>\n",
       "  </tbody>\n",
       "</table>\n",
       "</div>"
      ],
      "text/plain": [
       "  product  sales        date\n",
       "0       A    100  2023-01-01\n",
       "1       B    200  2023-01-02\n",
       "2       C    300  2023-01-03\n",
       "3       A    150  2023-01-04\n",
       "4       B    250  2023-01-05"
      ]
     },
     "execution_count": 2,
     "metadata": {},
     "output_type": "execute_result"
    }
   ],
   "source": [
    "import pandas as pd\n",
    "import duckdb\n",
    "\n",
    "df = pd.DataFrame({\n",
    "                    'product': ['A', 'B', 'C', 'A', 'B'],\n",
    "                    'sales': [100, 200, 300, 150, 250],\n",
    "                    'date': ['2023-01-01', '2023-01-02', '2023-01-03', '2023-01-04', '2023-01-05']\n",
    "                    })\n",
    "df"
   ]
  },
  {
   "cell_type": "markdown",
   "metadata": {
    "id": "L2vxpBpDvO1m"
   },
   "source": [
    "\n",
    "\n",
    "![image](https://frenzy86.s3.eu-west-2.amazonaws.com/python/SQL_.jpg\n",
    ")"
   ]
  },
  {
   "cell_type": "code",
   "execution_count": 3,
   "metadata": {
    "colab": {
     "base_uri": "https://localhost:8080/",
     "height": 112
    },
    "executionInfo": {
     "elapsed": 299,
     "status": "ok",
     "timestamp": 1736622122020,
     "user": {
      "displayName": "Daniele Grotti",
      "userId": "05993002232846155126"
     },
     "user_tz": -60
    },
    "id": "I0lUzkrIlfJO",
    "outputId": "aa20ede4-c8bf-4931-b822-ca55775e8a1e"
   },
   "outputs": [
    {
     "data": {
      "text/html": [
       "<div>\n",
       "<style scoped>\n",
       "    .dataframe tbody tr th:only-of-type {\n",
       "        vertical-align: middle;\n",
       "    }\n",
       "\n",
       "    .dataframe tbody tr th {\n",
       "        vertical-align: top;\n",
       "    }\n",
       "\n",
       "    .dataframe thead th {\n",
       "        text-align: right;\n",
       "    }\n",
       "</style>\n",
       "<table border=\"1\" class=\"dataframe\">\n",
       "  <thead>\n",
       "    <tr style=\"text-align: right;\">\n",
       "      <th></th>\n",
       "      <th>product</th>\n",
       "      <th>total_sales</th>\n",
       "    </tr>\n",
       "  </thead>\n",
       "  <tbody>\n",
       "    <tr>\n",
       "      <th>0</th>\n",
       "      <td>B</td>\n",
       "      <td>450.0</td>\n",
       "    </tr>\n",
       "    <tr>\n",
       "      <th>1</th>\n",
       "      <td>C</td>\n",
       "      <td>300.0</td>\n",
       "    </tr>\n",
       "  </tbody>\n",
       "</table>\n",
       "</div>"
      ],
      "text/plain": [
       "  product  total_sales\n",
       "0       B        450.0\n",
       "1       C        300.0"
      ]
     },
     "execution_count": 3,
     "metadata": {},
     "output_type": "execute_result"
    }
   ],
   "source": [
    "duckdb.query(\"\"\"\n",
    "\n",
    "SELECT product, SUM(sales) AS total_sales\n",
    "FROM df\n",
    "GROUP BY product\n",
    "ORDER BY total_sales DESC\n",
    "LIMIT 2\n",
    "\n",
    "\"\"\").df()"
   ]
  },
  {
   "cell_type": "markdown",
   "metadata": {
    "id": "koxlI5n0v82b"
   },
   "source": [
    "## with Polars"
   ]
  },
  {
   "cell_type": "code",
   "execution_count": 4,
   "metadata": {
    "colab": {
     "base_uri": "https://localhost:8080/",
     "height": 255
    },
    "executionInfo": {
     "elapsed": 639,
     "status": "ok",
     "timestamp": 1736622219769,
     "user": {
      "displayName": "Daniele Grotti",
      "userId": "05993002232846155126"
     },
     "user_tz": -60
    },
    "id": "awghtJ4jlgK9",
    "outputId": "b51dc2c0-24d4-4de3-dae1-0f5cc8d0f320"
   },
   "outputs": [
    {
     "data": {
      "text/html": [
       "<div><style>\n",
       ".dataframe > thead > tr,\n",
       ".dataframe > tbody > tr {\n",
       "  text-align: right;\n",
       "  white-space: pre-wrap;\n",
       "}\n",
       "</style>\n",
       "<small>shape: (5, 3)</small><table border=\"1\" class=\"dataframe\"><thead><tr><th>product</th><th>sales</th><th>date</th></tr><tr><td>str</td><td>i64</td><td>str</td></tr></thead><tbody><tr><td>&quot;A&quot;</td><td>100</td><td>&quot;2023-01-01&quot;</td></tr><tr><td>&quot;B&quot;</td><td>200</td><td>&quot;2023-01-02&quot;</td></tr><tr><td>&quot;C&quot;</td><td>300</td><td>&quot;2023-01-03&quot;</td></tr><tr><td>&quot;A&quot;</td><td>150</td><td>&quot;2023-01-04&quot;</td></tr><tr><td>&quot;B&quot;</td><td>250</td><td>&quot;2023-01-05&quot;</td></tr></tbody></table></div>"
      ],
      "text/plain": [
       "shape: (5, 3)\n",
       "┌─────────┬───────┬────────────┐\n",
       "│ product ┆ sales ┆ date       │\n",
       "│ ---     ┆ ---   ┆ ---        │\n",
       "│ str     ┆ i64   ┆ str        │\n",
       "╞═════════╪═══════╪════════════╡\n",
       "│ A       ┆ 100   ┆ 2023-01-01 │\n",
       "│ B       ┆ 200   ┆ 2023-01-02 │\n",
       "│ C       ┆ 300   ┆ 2023-01-03 │\n",
       "│ A       ┆ 150   ┆ 2023-01-04 │\n",
       "│ B       ┆ 250   ┆ 2023-01-05 │\n",
       "└─────────┴───────┴────────────┘"
      ]
     },
     "execution_count": 4,
     "metadata": {},
     "output_type": "execute_result"
    }
   ],
   "source": [
    "import polars as pl\n",
    "import duckdb\n",
    "\n",
    "df = pl.DataFrame({\n",
    "                    'product': ['A', 'B', 'C', 'A', 'B'],\n",
    "                    'sales': [100, 200, 300, 150, 250],\n",
    "                    'date': ['2023-01-01', '2023-01-02', '2023-01-03', '2023-01-04', '2023-01-05']\n",
    "                    })\n",
    "df"
   ]
  },
  {
   "cell_type": "code",
   "execution_count": 5,
   "metadata": {
    "colab": {
     "base_uri": "https://localhost:8080/",
     "height": 192
    },
    "executionInfo": {
     "elapsed": 241,
     "status": "ok",
     "timestamp": 1736622431957,
     "user": {
      "displayName": "Daniele Grotti",
      "userId": "05993002232846155126"
     },
     "user_tz": -60
    },
    "id": "hzcoE-umwB3j",
    "outputId": "47656b81-c648-4a8a-f58f-277b248caae7"
   },
   "outputs": [
    {
     "data": {
      "text/html": [
       "<div><style>\n",
       ".dataframe > thead > tr,\n",
       ".dataframe > tbody > tr {\n",
       "  text-align: right;\n",
       "  white-space: pre-wrap;\n",
       "}\n",
       "</style>\n",
       "<small>shape: (3, 2)</small><table border=\"1\" class=\"dataframe\"><thead><tr><th>product</th><th>total_sales</th></tr><tr><td>str</td><td>decimal[38,0]</td></tr></thead><tbody><tr><td>&quot;B&quot;</td><td>450</td></tr><tr><td>&quot;C&quot;</td><td>300</td></tr><tr><td>&quot;A&quot;</td><td>250</td></tr></tbody></table></div>"
      ],
      "text/plain": [
       "shape: (3, 2)\n",
       "┌─────────┬───────────────┐\n",
       "│ product ┆ total_sales   │\n",
       "│ ---     ┆ ---           │\n",
       "│ str     ┆ decimal[38,0] │\n",
       "╞═════════╪═══════════════╡\n",
       "│ B       ┆ 450           │\n",
       "│ C       ┆ 300           │\n",
       "│ A       ┆ 250           │\n",
       "└─────────┴───────────────┘"
      ]
     },
     "execution_count": 5,
     "metadata": {},
     "output_type": "execute_result"
    }
   ],
   "source": [
    "duckdb.query(\"\"\"\n",
    "\n",
    "SELECT product, SUM(sales) AS total_sales\n",
    "FROM df\n",
    "GROUP BY product\n",
    "ORDER BY total_sales DESC\n",
    "--LIMIT 2\n",
    "\n",
    "\"\"\").pl()"
   ]
  },
  {
   "cell_type": "code",
   "execution_count": null,
   "metadata": {
    "id": "7qI3Q_6KwFMt"
   },
   "outputs": [],
   "source": []
  }
 ],
 "metadata": {
  "colab": {
   "provenance": []
  },
  "kernelspec": {
   "display_name": "Python 3",
   "language": "python",
   "name": "python3"
  },
  "language_info": {
   "codemirror_mode": {
    "name": "ipython",
    "version": 3
   },
   "file_extension": ".py",
   "mimetype": "text/x-python",
   "name": "python",
   "nbconvert_exporter": "python",
   "pygments_lexer": "ipython3",
   "version": "3.11.9"
  }
 },
 "nbformat": 4,
 "nbformat_minor": 0
}
